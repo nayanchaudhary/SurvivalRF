{
 "cells": [
  {
   "cell_type": "markdown",
   "metadata": {},
   "source": [
    "# Importing Libraries and Datasets"
   ]
  },
  {
   "cell_type": "code",
   "execution_count": 1,
   "metadata": {
    "collapsed": true
   },
   "outputs": [],
   "source": [
    "from __future__ import print_function\n",
    "import numpy as np\n",
    "import pandas as pd\n",
    "import matplotlib.pyplot as plt\n",
    "import collections\n",
    "import operator"
   ]
  },
  {
   "cell_type": "code",
   "execution_count": 2,
   "metadata": {},
   "outputs": [
    {
     "data": {
      "text/html": [
       "<div>\n",
       "<style scoped>\n",
       "    .dataframe tbody tr th:only-of-type {\n",
       "        vertical-align: middle;\n",
       "    }\n",
       "\n",
       "    .dataframe tbody tr th {\n",
       "        vertical-align: top;\n",
       "    }\n",
       "\n",
       "    .dataframe thead th {\n",
       "        text-align: right;\n",
       "    }\n",
       "</style>\n",
       "<table border=\"1\" class=\"dataframe\">\n",
       "  <thead>\n",
       "    <tr style=\"text-align: right;\">\n",
       "      <th></th>\n",
       "      <th>Id</th>\n",
       "      <th>SepalLengthCm</th>\n",
       "      <th>SepalWidthCm</th>\n",
       "      <th>PetalLengthCm</th>\n",
       "      <th>PetalWidthCm</th>\n",
       "      <th>Species</th>\n",
       "    </tr>\n",
       "  </thead>\n",
       "  <tbody>\n",
       "    <tr>\n",
       "      <th>0</th>\n",
       "      <td>1</td>\n",
       "      <td>5.1</td>\n",
       "      <td>3.5</td>\n",
       "      <td>1.4</td>\n",
       "      <td>0.2</td>\n",
       "      <td>Iris-setosa</td>\n",
       "    </tr>\n",
       "    <tr>\n",
       "      <th>1</th>\n",
       "      <td>2</td>\n",
       "      <td>4.9</td>\n",
       "      <td>3.0</td>\n",
       "      <td>1.4</td>\n",
       "      <td>0.2</td>\n",
       "      <td>Iris-setosa</td>\n",
       "    </tr>\n",
       "    <tr>\n",
       "      <th>2</th>\n",
       "      <td>3</td>\n",
       "      <td>4.7</td>\n",
       "      <td>3.2</td>\n",
       "      <td>1.3</td>\n",
       "      <td>0.2</td>\n",
       "      <td>Iris-setosa</td>\n",
       "    </tr>\n",
       "    <tr>\n",
       "      <th>3</th>\n",
       "      <td>4</td>\n",
       "      <td>4.6</td>\n",
       "      <td>3.1</td>\n",
       "      <td>1.5</td>\n",
       "      <td>0.2</td>\n",
       "      <td>Iris-setosa</td>\n",
       "    </tr>\n",
       "    <tr>\n",
       "      <th>4</th>\n",
       "      <td>5</td>\n",
       "      <td>5.0</td>\n",
       "      <td>3.6</td>\n",
       "      <td>1.4</td>\n",
       "      <td>0.2</td>\n",
       "      <td>Iris-setosa</td>\n",
       "    </tr>\n",
       "  </tbody>\n",
       "</table>\n",
       "</div>"
      ],
      "text/plain": [
       "   Id  SepalLengthCm  SepalWidthCm  PetalLengthCm  PetalWidthCm      Species\n",
       "0   1            5.1           3.5            1.4           0.2  Iris-setosa\n",
       "1   2            4.9           3.0            1.4           0.2  Iris-setosa\n",
       "2   3            4.7           3.2            1.3           0.2  Iris-setosa\n",
       "3   4            4.6           3.1            1.5           0.2  Iris-setosa\n",
       "4   5            5.0           3.6            1.4           0.2  Iris-setosa"
      ]
     },
     "execution_count": 2,
     "metadata": {},
     "output_type": "execute_result"
    }
   ],
   "source": [
    "df = pd.read_csv('/Users/sidverma/Documents/GitHub/SurvivalRF/scikit-learn/examples/tree/iris.csv')\n",
    "df.head()"
   ]
  },
  {
   "cell_type": "code",
   "execution_count": 3,
   "metadata": {
    "collapsed": true
   },
   "outputs": [],
   "source": [
    "df.Species = pd.Categorical(df.Species)"
   ]
  },
  {
   "cell_type": "code",
   "execution_count": 4,
   "metadata": {},
   "outputs": [
    {
     "data": {
      "text/plain": [
       "(150, 6)"
      ]
     },
     "execution_count": 4,
     "metadata": {},
     "output_type": "execute_result"
    }
   ],
   "source": [
    "df.shape"
   ]
  },
  {
   "cell_type": "markdown",
   "metadata": {},
   "source": [
    "# Class and Function Definitions"
   ]
  },
  {
   "cell_type": "code",
   "execution_count": 5,
   "metadata": {
    "collapsed": true
   },
   "outputs": [],
   "source": [
    "def class_counts(df, column):\n",
    "    \"\"\"Counts the number of each type of example in a dataset.\"\"\"\n",
    "    counts = collections.Counter(df[column])\n",
    "    return counts"
   ]
  },
  {
   "cell_type": "code",
   "execution_count": 6,
   "metadata": {},
   "outputs": [
    {
     "data": {
      "text/plain": [
       "Counter({'Iris-setosa': 50, 'Iris-versicolor': 50, 'Iris-virginica': 50})"
      ]
     },
     "execution_count": 6,
     "metadata": {},
     "output_type": "execute_result"
    }
   ],
   "source": [
    "class_counts(df, 'Species')"
   ]
  },
  {
   "cell_type": "code",
   "execution_count": 7,
   "metadata": {
    "collapsed": true
   },
   "outputs": [],
   "source": [
    "def isNumeric(value):\n",
    "    return isinstance(value, int) or isinstance(value, float)\n",
    "\n",
    "def isCategorical(value):\n",
    "    return isinstance(value, object) and not isNumeric(value)"
   ]
  },
  {
   "cell_type": "code",
   "execution_count": 8,
   "metadata": {
    "collapsed": true
   },
   "outputs": [],
   "source": [
    "class Splitter(object):\n",
    "    \"\"\"A splitting criterion for dividing the dataset based on the outcome\n",
    "    \n",
    "    This class forms a new node of a tree where a two outcome Question is asked\n",
    "    depending on the response the current data is divided into two parts which form the\n",
    "    remaining data for the left and right subtrees.\n",
    "    \"\"\"\n",
    "    def __init__(self, attribute, operation, target):\n",
    "        self.attribute = attribute\n",
    "        self.target = target\n",
    "        self.operation = operation\n",
    "        \n",
    "    def details(self):\n",
    "        return 'The splitter condition is: '+ self.attribute + \" \" + self.operation + \" \" + str(self.target)"
   ]
  },
  {
   "cell_type": "code",
   "execution_count": 9,
   "metadata": {
    "collapsed": true
   },
   "outputs": [],
   "source": [
    "def partition(df, splitter):\n",
    "    \"\"\"Partitions a dataset.\n",
    "    \n",
    "    @input: DataFrame <pandas.DataFrame>, splitter <object>\n",
    "    @returns: positive, negative dataframes <pd.DataFrame>\n",
    "    \n",
    "    Check whether the row value matches the splitter condition. If it does,\n",
    "    add it to the matched rows else to the unmatched rows\n",
    "    \"\"\"\n",
    "    comparison = splitter.operation\n",
    "    attr = splitter.attribute\n",
    "    target = splitter.target\n",
    "    \n",
    "    # For handling Numeric Data\n",
    "    if isNumeric(target):\n",
    "        if comparison == '<':\n",
    "            true_rows = df[df[attr] < target]\n",
    "            false_rows = df[df[attr] >= target]\n",
    "        elif comparison == '>':\n",
    "            true_rows = df[df[attr] > target]\n",
    "            false_rows = df[df[attr] <= target]\n",
    "        elif comparison == '==':\n",
    "            true_rows = df[df[attr] == target]\n",
    "            false_rows = df[df[attr] != target]\n",
    "        elif comparison == '!=':\n",
    "            true_rows = df[df[attr] != target]\n",
    "            false_rows = df[df[attr] == target]\n",
    "        elif comparison == '<=':\n",
    "            true_rows = df[df[attr] <= target]\n",
    "            false_rows = df[df[attr] > target]\n",
    "        elif comparison == '>=':\n",
    "            true_rows = df[df[attr] >= target]\n",
    "            false_rows = df[df[attr] < target]\n",
    "        else:\n",
    "            raise SyntaxError\n",
    "        return true_rows, false_rows\n",
    "    \n",
    "    # For handling Categorical Data\n",
    "    elif isCategorical(target):\n",
    "        if comparison == '==':\n",
    "            true_rows = df[df[attr] == target]\n",
    "            false_rows = df[df[attr] != target]\n",
    "        elif comparison == '!=':\n",
    "            true_rows = df[df[attr] != target]\n",
    "            false_rows = df[df[attr] == target]\n",
    "        else:\n",
    "            raise TypeError\n",
    "        return true_rows, false_rows\n",
    "    \n",
    "    # Erroneous Datatype\n",
    "    else:\n",
    "        raise TypeError"
   ]
  },
  {
   "cell_type": "code",
   "execution_count": 10,
   "metadata": {
    "collapsed": true
   },
   "outputs": [],
   "source": [
    "def gini(df, column):\n",
    "    \"\"\"Calculate the Gini Impurity for a list of rows.\n",
    "    \n",
    "    @input: DataFrame <pandas.DataFrame>, columnLabel <string>\n",
    "    @returns: gini inpurity <float>\n",
    "    \n",
    "    There are a few different ways to do this, I thought this one was\n",
    "    the most concise. See:\n",
    "    https://en.wikipedia.org/wiki/Decision_tree_learning#Gini_impurity\n",
    "    \"\"\"\n",
    "    counts = class_counts(df, column)\n",
    "    impurity = 1\n",
    "    for lbl in counts:\n",
    "        prob_of_lbl = counts[lbl] / float(df.shape[0])\n",
    "        impurity -= prob_of_lbl**2\n",
    "    return impurity"
   ]
  },
  {
   "cell_type": "code",
   "execution_count": 11,
   "metadata": {
    "collapsed": true
   },
   "outputs": [],
   "source": [
    "def info_gain(left, right, current_uncertainty, column):\n",
    "    \"\"\"Information Gain.\n",
    "    @input: left, right dataframes <pd.DataFrame>, current uncertainty <float>, class Column name <string>\n",
    "    @returns: infogain <float>\n",
    "    The uncertainty of the starting node, minus the weighted impurity of\n",
    "    two child nodes.\n",
    "    \"\"\"\n",
    "    p = float(left.shape[0]) / (left.shape[0] + right.shape[0])\n",
    "    return current_uncertainty - p * gini(left, column) - (1 - p) * gini(right, column)"
   ]
  },
  {
   "cell_type": "code",
   "execution_count": 12,
   "metadata": {
    "collapsed": true
   },
   "outputs": [],
   "source": [
    "def find_best_split(df, column):\n",
    "    \"\"\"Find the best question to ask by iterating over every feature / value\n",
    "    and calculating the information gain.\n",
    "    @input: dataframe <pd.DataFrame>, class Column name <string>\n",
    "    @returns: best_gain <float>, best_splitter <object>\n",
    "    \"\"\"\n",
    "    best_gain = 0  # Keep track of the best information gain\n",
    "    best_splitter = None  # Keep train of the feature / value that produced it\n",
    "    current_uncertainty = gini(df, column) # Current gini index of the (parent) node\n",
    "    \n",
    "    for attr in df.columns[:-1]:    # For each attribute in the dataset\n",
    "        values = df[attr].unique()  # List of unique values for each attribute\n",
    "        if isNumeric(values[0]):\n",
    "            setOfOperations = ('>', '>=', '<', '<=', '==', '!=')\n",
    "        if isCategorical(values[0]):\n",
    "            setOfOperations = ('==', '!=')\n",
    "            \n",
    "        # For each unqiue value in list\n",
    "        for val in values:        \n",
    "            for operation in setOfOperations:\n",
    "                \n",
    "                # Creating new splitter condition\n",
    "                splitter = Splitter(attr, operation, val) \n",
    "                #print(\"Checking Split Condition: \", splitter.attribute, splitter.operation, splitter.target)\n",
    "                # Partitioning dataset using splitter\n",
    "                true_branch, false_branch = partition(df, splitter)\n",
    "                \n",
    "                # Skip this split if it doesn't divide the dataset.\n",
    "                if len(true_branch) == 0 or len(false_branch) == 0: \n",
    "                    continue\n",
    "\n",
    "                # Calculate the information gain from this split\n",
    "                gain = info_gain(true_branch, false_branch, current_uncertainty, column)\n",
    "                \n",
    "                # Selecting the best gain\n",
    "                if gain >= best_gain:\n",
    "                    best_gain, best_splitter = gain, splitter\n",
    "\n",
    "    return best_gain, best_splitter"
   ]
  },
  {
   "cell_type": "code",
   "execution_count": 13,
   "metadata": {
    "collapsed": true
   },
   "outputs": [],
   "source": [
    "class Leaf:\n",
    "    \"\"\"A Leaf node classifies data.\n",
    "\n",
    "    This holds a dictionary of class (e.g., \"Apple\") -> number of times\n",
    "    it appears in the rows from the training data that reach this leaf.\n",
    "    \"\"\"\n",
    "\n",
    "    def __init__(self, df, column):\n",
    "        self.predictions = class_counts(df, column)"
   ]
  },
  {
   "cell_type": "code",
   "execution_count": 14,
   "metadata": {
    "collapsed": true
   },
   "outputs": [],
   "source": [
    "class Decision_Node:\n",
    "    \"\"\"A Decision Node asks a question.\n",
    "    This holds a reference to the splitter object, and to the two child nodes.\n",
    "    \"\"\"\n",
    "\n",
    "    def __init__(self,\n",
    "                 splitter,\n",
    "                 true_branch,\n",
    "                 false_branch):\n",
    "        self.splitter = splitter\n",
    "        self.true_branch = true_branch\n",
    "        self.false_branch = false_branch"
   ]
  },
  {
   "cell_type": "code",
   "execution_count": 15,
   "metadata": {
    "collapsed": true
   },
   "outputs": [],
   "source": [
    "def build_tree(df, column):\n",
    "    \"\"\"Builds the tree.\n",
    "    @input: dataframe <pd.DataFrame>, class Column name <string>\n",
    "    @returns: Decision Node <object>\n",
    "    \"\"\"\n",
    "\n",
    "    # Try partitioing the dataset on each of the unique attribute,\n",
    "    # calculate the information gain,\n",
    "    # and return the question that produces the highest gain.\n",
    "    gain, splitter = find_best_split(df, column)\n",
    "\n",
    "    # Base case: no further info gain\n",
    "    # Since we can ask no further questions,\n",
    "    # we'll return a leaf.\n",
    "    if gain == 0:\n",
    "        return Leaf(df, column)\n",
    "\n",
    "    # If we reach here, we have found a useful feature / value\n",
    "    # to partition on.\n",
    "    true_rows, false_rows = partition(df, splitter)\n",
    "\n",
    "    # Recursively build the true branch.\n",
    "    true_branch = build_tree(true_rows, column)\n",
    "\n",
    "    # Recursively build the false branch.\n",
    "    false_branch = build_tree(false_rows, column)\n",
    "\n",
    "    # Return a Splitter node.\n",
    "    # This records the best feature / value to ask at this point,\n",
    "    # as well as the branches to follow\n",
    "    # dependingo on the answer.\n",
    "    return Decision_Node(splitter, true_branch, false_branch)"
   ]
  },
  {
   "cell_type": "code",
   "execution_count": 16,
   "metadata": {
    "collapsed": true
   },
   "outputs": [],
   "source": [
    "def print_tree(node, spacing=\"\"):\n",
    "    \"\"\"World's most elegant tree printing function.\"\"\"\n",
    "\n",
    "    # Base case: we've reached a leaf\n",
    "    if isinstance(node, Leaf):\n",
    "        print (spacing + \"Predict\", node.predictions)\n",
    "        return\n",
    "\n",
    "    # Print the splitter at this node\n",
    "    print (spacing + str(node.splitter.details()))\n",
    "\n",
    "    # Call this function recursively on the true branch\n",
    "    print (spacing + '|--> True:')\n",
    "    print_tree(node.true_branch, spacing + \"  \")\n",
    "\n",
    "    # Call this function recursively on the false branch\n",
    "    print (spacing + '|--> False:')\n",
    "    print_tree(node.false_branch, spacing + \"  \")"
   ]
  },
  {
   "cell_type": "code",
   "execution_count": 17,
   "metadata": {},
   "outputs": [],
   "source": [
    "# %%time\n",
    "# myTree = build_tree(df, 'Species')"
   ]
  },
  {
   "cell_type": "code",
   "execution_count": 18,
   "metadata": {},
   "outputs": [],
   "source": [
    "# print_tree(myTree)"
   ]
  },
  {
   "cell_type": "markdown",
   "metadata": {},
   "source": [
    "# Prediction"
   ]
  },
  {
   "cell_type": "code",
   "execution_count": 19,
   "metadata": {
    "collapsed": true
   },
   "outputs": [],
   "source": [
    "operatorMap = {'>': operator.gt,\n",
    "               '>=': operator.ge,\n",
    "               '<': operator.lt,\n",
    "               '<=': operator.le,\n",
    "               '==': operator.eq,\n",
    "               '!=': operator.ne}"
   ]
  },
  {
   "cell_type": "code",
   "execution_count": 20,
   "metadata": {
    "collapsed": true
   },
   "outputs": [],
   "source": [
    "def classify(observation, node):\n",
    "    \"\"\"See the 'rules of recursion' above.\"\"\"\n",
    "    \n",
    "    # Base case: we've reached a leaf\n",
    "    if isinstance(node, Leaf):\n",
    "        return node.predictions\n",
    "\n",
    "    # Decide whether to follow the true-branch or the false-branch.\n",
    "    # Compare the feature / value stored in the node,\n",
    "    # to the example we're considering.\n",
    "#     print(\"Operation: \", node.splitter.operation)\n",
    "#     print('Row cell val: ', observation[node.splitter.attribute])\n",
    "#     print(\"Target val: \", node.splitter.target)\n",
    "    if operatorMap[node.splitter.operation](observation[node.splitter.attribute], node.splitter.target):\n",
    "        return classify(observation, node.true_branch)\n",
    "    else:\n",
    "        return classify(observation, node.false_branch)"
   ]
  },
  {
   "cell_type": "code",
   "execution_count": 21,
   "metadata": {
    "collapsed": true
   },
   "outputs": [],
   "source": [
    "def print_leaf(counts):\n",
    "    \"\"\"A nicer way to print the predictions at a leaf.\"\"\"\n",
    "    total = sum(counts.values()) * 1.0\n",
    "    probs = {}\n",
    "    for lbl in counts.keys():\n",
    "        probs[lbl] = int(counts[lbl] / total * 100)\n",
    "    return probs"
   ]
  },
  {
   "cell_type": "code",
   "execution_count": 22,
   "metadata": {},
   "outputs": [],
   "source": [
    "# for index, obs in df.iterrows():\n",
    "#     print(obs, index)\n",
    "#     print('Actual: %s |-|-| Predicted: %s' %(obs[-1], print_leaf(classify(obs, myTree))))"
   ]
  },
  {
   "cell_type": "code",
   "execution_count": null,
   "metadata": {
    "collapsed": true
   },
   "outputs": [],
   "source": []
  }
 ],
 "metadata": {
  "kernelspec": {
   "display_name": "Python 2",
   "language": "python",
   "name": "python2"
  },
  "language_info": {
   "codemirror_mode": {
    "name": "ipython",
    "version": 2
   },
   "file_extension": ".py",
   "mimetype": "text/x-python",
   "name": "python",
   "nbconvert_exporter": "python",
   "pygments_lexer": "ipython2",
   "version": "2.7.14"
  }
 },
 "nbformat": 4,
 "nbformat_minor": 2
}
