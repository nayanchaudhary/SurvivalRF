{
 "cells": [
  {
   "cell_type": "markdown",
   "metadata": {},
   "source": [
    "# Survival Tree\n",
    "\n",
    "Here we show an implementation of a Survival Tree. This is the scaffold which can be :\n",
    "\n",
    "* upscaled for a 'package' level code  \n",
    "* used for building survival forests"
   ]
  },
  {
   "cell_type": "code",
   "execution_count": 1,
   "metadata": {},
   "outputs": [],
   "source": [
    "from __future__ import print_function\n",
    "import numpy as np\n",
    "import pandas as pd\n",
    "import matplotlib.pyplot as plt\n",
    "import collections\n",
    "import operator\n",
    "\n",
    "import lifelines\n",
    "from lifelines.statistics import logrank_test\n",
    "from lifelines.utils import concordance_index"
   ]
  },
  {
   "cell_type": "markdown",
   "metadata": {},
   "source": [
    "### Example Dataset\n",
    "\n",
    "This is a Hodgkin's Lymphoma Dataset with the following variable definitions:\n",
    "\n",
    "* **trtgiven**: \n",
    "    - RT = radiation \n",
    "    - CMT = chemotherapy and radiation\n",
    "    \n",
    "* **medwidsi mediastinum involvement** : \n",
    "    - N = no\n",
    "    - S = small  \n",
    "    - L = large\n",
    "    \n",
    "* **extranod extranodal disease**: \n",
    "    - Y = extranodal disease\n",
    "    - N = nodal disease\n",
    "    \n",
    "* **clinstg clinical stage** : \n",
    "    - 1 = stage I\n",
    "    - 2 = stage II\n",
    "    \n",
    "* **status** (after transformation below):\n",
    "    - 1 - Death (Event)\n",
    "    - 0 - Censored"
   ]
  },
  {
   "cell_type": "code",
   "execution_count": 3,
   "metadata": {},
   "outputs": [
    {
     "name": "stdout",
     "output_type": "stream",
     "text": [
      "(865, 8)\n"
     ]
    },
    {
     "data": {
      "text/html": [
       "<div>\n",
       "<style scoped>\n",
       "    .dataframe tbody tr th:only-of-type {\n",
       "        vertical-align: middle;\n",
       "    }\n",
       "\n",
       "    .dataframe tbody tr th {\n",
       "        vertical-align: top;\n",
       "    }\n",
       "\n",
       "    .dataframe thead th {\n",
       "        text-align: right;\n",
       "    }\n",
       "</style>\n",
       "<table border=\"1\" class=\"dataframe\">\n",
       "  <thead>\n",
       "    <tr style=\"text-align: right;\">\n",
       "      <th></th>\n",
       "      <th>age</th>\n",
       "      <th>sex</th>\n",
       "      <th>trtgiven</th>\n",
       "      <th>medwidsi</th>\n",
       "      <th>extranod</th>\n",
       "      <th>clinstg</th>\n",
       "      <th>time</th>\n",
       "      <th>status</th>\n",
       "    </tr>\n",
       "  </thead>\n",
       "  <tbody>\n",
       "    <tr>\n",
       "      <th>0</th>\n",
       "      <td>64.0</td>\n",
       "      <td>F</td>\n",
       "      <td>RT</td>\n",
       "      <td>N</td>\n",
       "      <td>N</td>\n",
       "      <td>1</td>\n",
       "      <td>3.1</td>\n",
       "      <td>2</td>\n",
       "    </tr>\n",
       "    <tr>\n",
       "      <th>1</th>\n",
       "      <td>63.0</td>\n",
       "      <td>M</td>\n",
       "      <td>RT</td>\n",
       "      <td>N</td>\n",
       "      <td>N</td>\n",
       "      <td>1</td>\n",
       "      <td>15.9</td>\n",
       "      <td>2</td>\n",
       "    </tr>\n",
       "    <tr>\n",
       "      <th>2</th>\n",
       "      <td>17.0</td>\n",
       "      <td>M</td>\n",
       "      <td>RT</td>\n",
       "      <td>N</td>\n",
       "      <td>N</td>\n",
       "      <td>2</td>\n",
       "      <td>0.9</td>\n",
       "      <td>1</td>\n",
       "    </tr>\n",
       "    <tr>\n",
       "      <th>3</th>\n",
       "      <td>63.0</td>\n",
       "      <td>M</td>\n",
       "      <td>RT</td>\n",
       "      <td>N</td>\n",
       "      <td>N</td>\n",
       "      <td>2</td>\n",
       "      <td>13.1</td>\n",
       "      <td>2</td>\n",
       "    </tr>\n",
       "    <tr>\n",
       "      <th>4</th>\n",
       "      <td>21.0</td>\n",
       "      <td>M</td>\n",
       "      <td>RT</td>\n",
       "      <td>L</td>\n",
       "      <td>N</td>\n",
       "      <td>2</td>\n",
       "      <td>35.9</td>\n",
       "      <td>0</td>\n",
       "    </tr>\n",
       "  </tbody>\n",
       "</table>\n",
       "</div>"
      ],
      "text/plain": [
       "    age sex trtgiven medwidsi extranod  clinstg  time  status\n",
       "0  64.0   F       RT        N        N        1   3.1       2\n",
       "1  63.0   M       RT        N        N        1  15.9       2\n",
       "2  17.0   M       RT        N        N        2   0.9       1\n",
       "3  63.0   M       RT        N        N        2  13.1       2\n",
       "4  21.0   M       RT        L        N        2  35.9       0"
      ]
     },
     "metadata": {},
     "output_type": "display_data"
    }
   ],
   "source": [
    "df = pd.read_csv('../datasets/hd.csv')\n",
    "df= df.iloc[:,1:]\n",
    "print(df.shape)\n",
    "display(df.head())"
   ]
  },
  {
   "cell_type": "code",
   "execution_count": 26,
   "metadata": {},
   "outputs": [
    {
     "name": "stdout",
     "output_type": "stream",
     "text": [
      "RT     616\n",
      "CMT    249\n",
      "Name: trtgiven, dtype: int64\n",
      "\n",
      "\n",
      "N    464\n",
      "S    288\n",
      "L    113\n",
      "Name: medwidsi, dtype: int64\n",
      "\n",
      "\n",
      "N    786\n",
      "Y     79\n",
      "Name: extranod, dtype: int64\n",
      "\n",
      "\n",
      "2    569\n",
      "1    296\n",
      "Name: clinstg, dtype: int64\n",
      "\n",
      "\n",
      "0    439\n",
      "1    291\n",
      "2    135\n",
      "Name: status, dtype: int64\n",
      "\n",
      "\n"
     ]
    }
   ],
   "source": [
    "for col in ['trtgiven', 'medwidsi', 'extranod', 'clinstg','status']:\n",
    "    print(df[col].value_counts())\n",
    "    print(\"\\n\")"
   ]
  },
  {
   "cell_type": "code",
   "execution_count": 30,
   "metadata": {},
   "outputs": [
    {
     "name": "stdout",
     "output_type": "stream",
     "text": [
      "(574, 8)\n"
     ]
    },
    {
     "data": {
      "text/html": [
       "<div>\n",
       "<style scoped>\n",
       "    .dataframe tbody tr th:only-of-type {\n",
       "        vertical-align: middle;\n",
       "    }\n",
       "\n",
       "    .dataframe tbody tr th {\n",
       "        vertical-align: top;\n",
       "    }\n",
       "\n",
       "    .dataframe thead th {\n",
       "        text-align: right;\n",
       "    }\n",
       "</style>\n",
       "<table border=\"1\" class=\"dataframe\">\n",
       "  <thead>\n",
       "    <tr style=\"text-align: right;\">\n",
       "      <th></th>\n",
       "      <th>age</th>\n",
       "      <th>sex</th>\n",
       "      <th>trtgiven</th>\n",
       "      <th>medwidsi</th>\n",
       "      <th>extranod</th>\n",
       "      <th>clinstg</th>\n",
       "      <th>time</th>\n",
       "      <th>status</th>\n",
       "    </tr>\n",
       "  </thead>\n",
       "  <tbody>\n",
       "    <tr>\n",
       "      <th>0</th>\n",
       "      <td>64.0</td>\n",
       "      <td>F</td>\n",
       "      <td>RT</td>\n",
       "      <td>N</td>\n",
       "      <td>N</td>\n",
       "      <td>1</td>\n",
       "      <td>3.1</td>\n",
       "      <td>1</td>\n",
       "    </tr>\n",
       "    <tr>\n",
       "      <th>1</th>\n",
       "      <td>63.0</td>\n",
       "      <td>M</td>\n",
       "      <td>RT</td>\n",
       "      <td>N</td>\n",
       "      <td>N</td>\n",
       "      <td>1</td>\n",
       "      <td>15.9</td>\n",
       "      <td>1</td>\n",
       "    </tr>\n",
       "    <tr>\n",
       "      <th>3</th>\n",
       "      <td>63.0</td>\n",
       "      <td>M</td>\n",
       "      <td>RT</td>\n",
       "      <td>N</td>\n",
       "      <td>N</td>\n",
       "      <td>2</td>\n",
       "      <td>13.1</td>\n",
       "      <td>1</td>\n",
       "    </tr>\n",
       "  </tbody>\n",
       "</table>\n",
       "</div>"
      ],
      "text/plain": [
       "    age sex trtgiven medwidsi extranod  clinstg  time  status\n",
       "0  64.0   F       RT        N        N        1   3.1       1\n",
       "1  63.0   M       RT        N        N        1  15.9       1\n",
       "3  63.0   M       RT        N        N        2  13.1       1"
      ]
     },
     "metadata": {},
     "output_type": "display_data"
    }
   ],
   "source": [
    "df = df[df.status!=1]\n",
    "print(df.shape)\n",
    "df['status'] = df.status.apply(lambda x: int(x==2))\n",
    "display(df.head(3))"
   ]
  },
  {
   "cell_type": "code",
   "execution_count": 31,
   "metadata": {},
   "outputs": [
    {
     "name": "stdout",
     "output_type": "stream",
     "text": [
      "0    439\n",
      "1    135\n",
      "Name: status, dtype: int64\n",
      "\n",
      "\n"
     ]
    }
   ],
   "source": [
    "print(df['status'].value_counts())\n",
    "print(\"\\n\")"
   ]
  },
  {
   "cell_type": "markdown",
   "metadata": {},
   "source": [
    "# Survival Tree : Implementation"
   ]
  },
  {
   "cell_type": "markdown",
   "metadata": {},
   "source": [
    "## Class and Function Definitions"
   ]
  },
  {
   "cell_type": "code",
   "execution_count": 20,
   "metadata": {},
   "outputs": [],
   "source": [
    "def class_counts(df, column):\n",
    "    \"\"\"Counts the number of each type of example in a dataset.\"\"\"\n",
    "    counts = collections.Counter(df[column])\n",
    "    return counts"
   ]
  },
  {
   "cell_type": "code",
   "execution_count": 21,
   "metadata": {},
   "outputs": [],
   "source": [
    "def isNumeric(value):\n",
    "    return isinstance(value, int) or isinstance(value, float)\n",
    "\n",
    "def isCategorical(value):\n",
    "    return isinstance(value, object) and not isNumeric(value)"
   ]
  },
  {
   "cell_type": "code",
   "execution_count": 22,
   "metadata": {},
   "outputs": [],
   "source": [
    "class Splitter(object):\n",
    "    \"\"\"A splitting criterion for dividing the dataset based on the outcome\n",
    "    \n",
    "    This class forms a new node of a tree where a two outcome Question is asked\n",
    "    depending on the response the current data is divided into two parts which form the\n",
    "    remaining data for the left and right subtrees.\n",
    "    \"\"\"\n",
    "    def __init__(self, attribute, operation, target):\n",
    "        self.attribute = attribute\n",
    "        self.target = target\n",
    "        self.operation = operation\n",
    "        \n",
    "    def details(self):\n",
    "        return 'The splitter condition is: '+ self.attribute + \" \" + self.operation + \" \" + str(self.target)"
   ]
  },
  {
   "cell_type": "code",
   "execution_count": 23,
   "metadata": {},
   "outputs": [],
   "source": [
    "def partition(df, splitter):\n",
    "    \"\"\"Partitions a dataset.\n",
    "    \n",
    "    @input: DataFrame <pandas.DataFrame>, splitter <object>\n",
    "    @returns: positive, negative dataframes <pd.DataFrame>\n",
    "    \n",
    "    Check whether the row value matches the splitter condition. If it does,\n",
    "    add it to the matched rows else to the unmatched rows\n",
    "    \"\"\"\n",
    "    comparison = splitter.operation\n",
    "    attr = splitter.attribute\n",
    "    target = splitter.target\n",
    "    \n",
    "    # For handling Numeric Data\n",
    "    if isNumeric(target):\n",
    "        if comparison == '<':\n",
    "            true_rows = df[df[attr] < target]\n",
    "            false_rows = df[df[attr] >= target]\n",
    "        elif comparison == '>':\n",
    "            true_rows = df[df[attr] > target]\n",
    "            false_rows = df[df[attr] <= target]\n",
    "        elif comparison == '==':\n",
    "            true_rows = df[df[attr] == target]\n",
    "            false_rows = df[df[attr] != target]\n",
    "        elif comparison == '!=':\n",
    "            true_rows = df[df[attr] != target]\n",
    "            false_rows = df[df[attr] == target]\n",
    "        elif comparison == '<=':\n",
    "            true_rows = df[df[attr] <= target]\n",
    "            false_rows = df[df[attr] > target]\n",
    "        elif comparison == '>=':\n",
    "            true_rows = df[df[attr] >= target]\n",
    "            false_rows = df[df[attr] < target]\n",
    "        else:\n",
    "            raise SyntaxError\n",
    "        return true_rows, false_rows\n",
    "    \n",
    "    # For handling Categorical Data\n",
    "    elif isCategorical(target):\n",
    "        if comparison == '==':\n",
    "            true_rows = df[df[attr] == target]\n",
    "            false_rows = df[df[attr] != target]\n",
    "        elif comparison == '!=':\n",
    "            true_rows = df[df[attr] != target]\n",
    "            false_rows = df[df[attr] == target]\n",
    "        else:\n",
    "            raise TypeError\n",
    "        return true_rows, false_rows\n",
    "    \n",
    "    # Erroneous Datatype\n",
    "    else:\n",
    "        raise TypeError"
   ]
  },
  {
   "cell_type": "code",
   "execution_count": 57,
   "metadata": {},
   "outputs": [],
   "source": [
    "def find_best_split(df):\n",
    "    \"\"\"Find the best question to ask by iterating over every feature / value\n",
    "    and calculating the information gain.\n",
    "    @input: dataframe <pd.DataFrame>, class Column name <string>\n",
    "    @returns: best_gain <float>, best_splitter <object>\n",
    "    \"\"\"\n",
    "    \n",
    "    best_sepr = 0  # Keep track of the best information gain\n",
    "    best_splitter = None  # Keep train of the feature / value that produced it\n",
    "    #current_uncertainty = gini(df, column) # Current gini index of the (parent) node\n",
    "    \n",
    "    attributes = list(df.columns)\n",
    "    attributes.remove('time')\n",
    "    attributes.remove('status')\n",
    "    \n",
    "    for attr in attributes:    # For each attribute in the dataset\n",
    "        values = df[attr].unique()  # List of unique values for each attribute\n",
    "        if isNumeric(values[0]):\n",
    "            setOfOperations = ('>', '>=', '<', '<=', '==', '!=')\n",
    "        if isCategorical(values[0]):\n",
    "            setOfOperations = ('==', '!=')\n",
    "            \n",
    "        # For each unqiue value in list\n",
    "        for val in values:        \n",
    "            for operation in setOfOperations:\n",
    "                \n",
    "                # Creating new splitter condition\n",
    "                splitter = Splitter(attr, operation, val) \n",
    "                #print(\"Checking Split Condition: \", splitter.attribute, splitter.operation, splitter.target)\n",
    "                # Partitioning dataset using splitter\n",
    "                true_branch, false_branch = partition(df, splitter)\n",
    "                \n",
    "                # Skip this split if it doesn't divide the dataset.\n",
    "                if len(true_branch) == 0 or len(false_branch) == 0: \n",
    "                    continue\n",
    "\n",
    "                # Calculate the survival separation from this split\n",
    "                # Here we have used log rank test (based on KM curves). \n",
    "                # This test has been implemented in Lifelines, calling the function from there\n",
    "\n",
    "                logRankValue = logrank_test(event_times_A =  true_branch.loc[:,'time'],\n",
    "                                    event_times_B = false_branch.loc[:,'time'],\n",
    "                                    event_observed_A = true_branch.loc[:,'status'], \n",
    "                                    event_observed_B = false_branch.loc[:,'status'])\n",
    "                \n",
    "                if logRankValue.p_value < 0.05:\n",
    "                    sepr = logRankValue.test_statistic\n",
    "                else:\n",
    "                    sepr = 0.0\n",
    "                \n",
    "                # Selecting the best gain\n",
    "                if sepr >= best_sepr:\n",
    "                    best_sepr, best_splitter = sepr, splitter\n",
    "\n",
    "    return best_sepr, best_splitter"
   ]
  },
  {
   "cell_type": "code",
   "execution_count": 41,
   "metadata": {},
   "outputs": [],
   "source": [
    "class Leaf:\n",
    "    \"\"\"A Leaf node classifies data.\n",
    "\n",
    "    This holds a dictionary of class (e.g., \"Apple\") -> number of times\n",
    "    it appears in the rows from the training data that reach this leaf.\n",
    "    \"\"\"\n",
    "\n",
    "    def __init__(self, df, column):\n",
    "        self.predictions = class_counts(df, column)"
   ]
  },
  {
   "cell_type": "code",
   "execution_count": 42,
   "metadata": {},
   "outputs": [],
   "source": [
    "class Decision_Node:\n",
    "    \"\"\"A Decision Node asks a question.\n",
    "    This holds a reference to the splitter object, and to the two child nodes.\n",
    "    \"\"\"\n",
    "\n",
    "    def __init__(self,\n",
    "                 splitter,\n",
    "                 true_branch,\n",
    "                 false_branch):\n",
    "        self.splitter = splitter\n",
    "        self.true_branch = true_branch\n",
    "        self.false_branch = false_branch"
   ]
  },
  {
   "cell_type": "code",
   "execution_count": 93,
   "metadata": {},
   "outputs": [],
   "source": [
    "def build_tree(df, column, stop_val):\n",
    "    \"\"\"Builds the tree.\n",
    "    @input: dataframe <pd.DataFrame>, class Column name <string>\n",
    "    @returns: Decision Node <object>\n",
    "    \"\"\"\n",
    "\n",
    "    # Try partitioing the dataset on each of the unique attribute,\n",
    "    # calculate the survival separation using some criteria\n",
    "    sepr, splitter = find_best_split(df, column)\n",
    "\n",
    "    # Base case: no further separation (acc to given stop value)\n",
    "    # Since we can ask no further questions,\n",
    "    # we'll return a leaf.\n",
    "    if sepr <= stop_val:\n",
    "        return Leaf(df, column)\n",
    "\n",
    "    # If we reach here, we have found a useful feature / value\n",
    "    # to partition on.\n",
    "    true_rows, false_rows = partition(df, splitter)\n",
    "\n",
    "    # Recursively build the true branch.\n",
    "    true_branch = build_tree(true_rows, column, stop_val)\n",
    "\n",
    "    # Recursively build the false branch.\n",
    "    false_branch = build_tree(false_rows, column, stop_val)\n",
    "\n",
    "    # Return a Splitter node.\n",
    "    # This records the best feature / value to ask at this point,\n",
    "    # as well as the branches to follow\n",
    "    # dependingo on the answer.\n",
    "    return Decision_Node(splitter, true_branch, false_branch)"
   ]
  },
  {
   "cell_type": "code",
   "execution_count": 48,
   "metadata": {},
   "outputs": [],
   "source": [
    "def print_tree(node, spacing=\"\"):\n",
    "    \"\"\"World's most elegant tree printing function.\"\"\"\n",
    "\n",
    "    # Base case: we've reached a leaf\n",
    "    if isinstance(node, Leaf):\n",
    "        print (spacing + \"Predict\", node.predictions)\n",
    "        return\n",
    "\n",
    "    # Print the splitter at this node\n",
    "    print (spacing + str(node.splitter.details()))\n",
    "\n",
    "    # Call this function recursively on the true branch\n",
    "    print (spacing + '|--> True:')\n",
    "    print_tree(node.true_branch, spacing + \"  \")\n",
    "\n",
    "    # Call this function recursively on the false branch\n",
    "    print (spacing + '|--> False:')\n",
    "    print_tree(node.false_branch, spacing + \"  \")"
   ]
  },
  {
   "cell_type": "markdown",
   "metadata": {},
   "source": [
    "### Training on Hodgkin's data\n",
    "\n",
    "We train on 100 samples from the data."
   ]
  },
  {
   "cell_type": "code",
   "execution_count": 95,
   "metadata": {},
   "outputs": [
    {
     "name": "stdout",
     "output_type": "stream",
     "text": [
      "CPU times: user 5min 24s, sys: 11.5 s, total: 5min 35s\n",
      "Wall time: 1min 29s\n"
     ]
    }
   ],
   "source": [
    "%%time\n",
    "myTree = build_tree(df.iloc[:100,:], 'time', 0.1)"
   ]
  },
  {
   "cell_type": "code",
   "execution_count": 101,
   "metadata": {},
   "outputs": [
    {
     "name": "stdout",
     "output_type": "stream",
     "text": [
      "The splitter condition is: age >= 58.43\n",
      "|--> True:\n",
      "  Predict Counter({13.1: 2, 0.6: 1, 2.7: 1, 3.1: 1, 4.3: 1, 5.3: 1, 12.0: 1, 9.5: 1, 10.2: 1, 11.1: 1, 13.0: 1, 14.7: 1, 15.9: 1, 3.0: 1, 9.0: 1})\n",
      "|--> False:\n",
      "  The splitter condition is: age == 37.0\n",
      "  |--> True:\n",
      "    Predict Counter({10.6: 1})\n",
      "  |--> False:\n",
      "    The splitter condition is: age == 49.0\n",
      "    |--> True:\n",
      "      Predict Counter({12.6: 1})\n",
      "    |--> False:\n",
      "      The splitter condition is: age == 47.3\n",
      "      |--> True:\n",
      "        Predict Counter({17.9: 1})\n",
      "      |--> False:\n",
      "        The splitter condition is: age == 42.0\n",
      "        |--> True:\n",
      "          Predict Counter({19.2: 1, 21.0: 1})\n",
      "        |--> False:\n",
      "          The splitter condition is: age <= 39.0\n",
      "          |--> True:\n",
      "            The splitter condition is: age == 30.0\n",
      "            |--> True:\n",
      "              Predict Counter({27.5: 1, 20.3: 1, 21.1: 1})\n",
      "            |--> False:\n",
      "              The splitter condition is: age == 29.62\n",
      "              |--> True:\n",
      "                Predict Counter({24.2: 1})\n",
      "              |--> False:\n",
      "                The splitter condition is: age == 36.0\n",
      "                |--> True:\n",
      "                  Predict Counter({17.8: 1, 27.4: 1})\n",
      "                |--> False:\n",
      "                  The splitter condition is: age == 29.0\n",
      "                  |--> True:\n",
      "                    Predict Counter({24.6: 1, 27.3: 1})\n",
      "                  |--> False:\n",
      "                    The splitter condition is: age != 26.0\n",
      "                    |--> True:\n",
      "                      The splitter condition is: age == 25.0\n",
      "                      |--> True:\n",
      "                        Predict Counter({25.8: 1, 26.1: 1, 25.5: 1})\n",
      "                      |--> False:\n",
      "                        Predict Counter({30.5: 3, 27.5: 3, 28.5: 2, 28.2: 2, 29.8: 2, 28.0: 2, 29.5: 2, 27.2: 2, 29.7: 2, 31.3: 2, 32.7: 1, 27.1: 1, 26.3: 1, 26.0: 1, 31.0: 1, 26.4: 1, 28.8: 1, 16.4: 1, 17.2: 1, 29.0: 1, 20.6: 1, 21.7: 1, 22.9: 1, 23.7: 1, 25.1: 1, 26.5: 1, 27.0: 1, 31.2: 1, 32.3: 1, 35.9: 1, 31.1: 1, 28.1: 1, 27.6: 1, 28.7: 1, 29.6: 1, 29.4: 1, 30.7: 1, 28.6: 1, 28.4: 1, 20.7: 1, 26.6: 1, 21.2: 1})\n",
      "                    |--> False:\n",
      "                      Predict Counter({33.0: 1, 18.4: 1})\n",
      "          |--> False:\n",
      "            Predict Counter({20.4: 2, 23.4: 2, 17.8: 1, 2.9: 1, 19.4: 1, 24.0: 1, 28.6: 1, 26.5: 1, 28.9: 1, 31.1: 1})\n"
     ]
    }
   ],
   "source": [
    "print_tree(myTree)"
   ]
  },
  {
   "cell_type": "markdown",
   "metadata": {},
   "source": [
    "# Prediction"
   ]
  },
  {
   "cell_type": "code",
   "execution_count": 97,
   "metadata": {},
   "outputs": [],
   "source": [
    "operatorMap = {'>': operator.gt,\n",
    "               '>=': operator.ge,\n",
    "               '<': operator.lt,\n",
    "               '<=': operator.le,\n",
    "               '==': operator.eq,\n",
    "               '!=': operator.ne}"
   ]
  },
  {
   "cell_type": "code",
   "execution_count": 98,
   "metadata": {},
   "outputs": [],
   "source": [
    "def predict(observation, node):\n",
    "    \"\"\"See the 'rules of recursion' above.\"\"\"\n",
    "    \n",
    "    # Base case: we've reached a leaf\n",
    "    if isinstance(node, Leaf):\n",
    "        return node.predictions\n",
    "\n",
    "    if operatorMap[node.splitter.operation](observation[node.splitter.attribute], node.splitter.target):\n",
    "        return predict(observation, node.true_branch)\n",
    "    else:\n",
    "        return predict(observation, node.false_branch)"
   ]
  },
  {
   "cell_type": "code",
   "execution_count": 99,
   "metadata": {},
   "outputs": [],
   "source": [
    "def print_leaf(counts):\n",
    "    \"\"\"A nicer way to print the predictions at a leaf.\"\"\"\n",
    "    total = sum(counts.values()) * 1.0\n",
    "    probs = {}\n",
    "    for lbl in counts.keys():\n",
    "        probs[lbl] = int(counts[lbl] / total * 100)\n",
    "    return probs"
   ]
  },
  {
   "cell_type": "code",
   "execution_count": 100,
   "metadata": {},
   "outputs": [],
   "source": [
    "def getMean(myDict):\n",
    "    \"\"\"outputs the mean of values from an input dictinonary 'print leaf' above\"\"\"\n",
    "    val = 0\n",
    "    \n",
    "    for k,v in myDict.items():\n",
    "        #print(k,v)\n",
    "        val += float(k)*float(v)\n",
    "        \n",
    "    return val/sum(myDict.values())"
   ]
  },
  {
   "cell_type": "markdown",
   "metadata": {},
   "source": [
    "** Training performance **"
   ]
  },
  {
   "cell_type": "code",
   "execution_count": 102,
   "metadata": {},
   "outputs": [
    {
     "data": {
      "text/plain": [
       "0.895826025955805"
      ]
     },
     "execution_count": 102,
     "metadata": {},
     "output_type": "execute_result"
    }
   ],
   "source": [
    "y_train_pred = []\n",
    "\n",
    "for index, obs in df.iloc[:100,:].iterrows():\n",
    "    \n",
    "    mydict = print_leaf(classify(obs, myTree))\n",
    "    val = getMean(mydict)\n",
    "    y_train_pred.append(val)\n",
    "    \n",
    "concordance_index(df.iloc[:100,-2].values, y_train_pred, df.iloc[:100,-1].values)"
   ]
  },
  {
   "cell_type": "markdown",
   "metadata": {},
   "source": [
    "### Testing on Hodgkin's data\n",
    "\n",
    "We test on 50 samples from the data."
   ]
  },
  {
   "cell_type": "code",
   "execution_count": 103,
   "metadata": {},
   "outputs": [
    {
     "data": {
      "text/plain": [
       "0.7759674134419552"
      ]
     },
     "execution_count": 103,
     "metadata": {},
     "output_type": "execute_result"
    }
   ],
   "source": [
    "y_test_pred = []\n",
    "\n",
    "for index, obs in df.iloc[100:150,:].iterrows():\n",
    "    \n",
    "    mydict = print_leaf(classify(obs, myTree))\n",
    "    val = getMean(mydict)\n",
    "    y_test_pred.append(val)\n",
    "    \n",
    "concordance_index(df.iloc[100:150,-2].values,y_test_pred,df.iloc[100:150,-1].values)"
   ]
  },
  {
   "cell_type": "markdown",
   "metadata": {},
   "source": [
    "This is actually a very good value of concordance index from a survival task point of view. However performance wasn't a goal in this analysis, just a proof-of-concept of running the algorithm."
   ]
  },
  {
   "cell_type": "markdown",
   "metadata": {},
   "source": [
    "## Key features of the implementation\n",
    "\n",
    "\n",
    "1. Can be scaled up to write the first package for Survival Tree and Survival Random Forest in Python\n",
    "2. This implementation can handle categorical variables (as-is) like R rather than having to 1-Hot encode them as in implementation of Scikit-learn"
   ]
  },
  {
   "cell_type": "markdown",
   "metadata": {},
   "source": [
    "## What next ?\n",
    "\n",
    "1. Tear apart Scikit's Tree impementation and borrow maximal code  \n",
    "2. Introduce our way of handling categorical variables  \n",
    "3. Add *criteria* to handle survival, i.e. calculate survival difference  \n"
   ]
  }
 ],
 "metadata": {
  "kernelspec": {
   "display_name": "Python 3",
   "language": "python",
   "name": "python3"
  },
  "language_info": {
   "codemirror_mode": {
    "name": "ipython",
    "version": 3
   },
   "file_extension": ".py",
   "mimetype": "text/x-python",
   "name": "python",
   "nbconvert_exporter": "python",
   "pygments_lexer": "ipython3",
   "version": "3.5.5"
  }
 },
 "nbformat": 4,
 "nbformat_minor": 2
}
